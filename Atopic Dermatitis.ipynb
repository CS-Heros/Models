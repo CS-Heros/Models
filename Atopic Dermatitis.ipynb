{
 "cells": [
  {
   "cell_type": "code",
   "execution_count": 2,
   "id": "8d0886c7",
   "metadata": {},
   "outputs": [],
   "source": [
    "from tensorflow.keras.preprocessing.image import ImageDataGenerator\n",
    "from tensorflow.keras.applications.inception_v3 import InceptionV3\n",
    "from tensorflow.keras.preprocessing import image\n",
    "from tensorflow.keras.models import Model\n",
    "from tensorflow.keras.layers import Dense, GlobalAveragePooling2D, Dropout\n",
    "import tensorflow as tf\n",
    "import pandas as pd\n",
    "import numpy as np\n",
    "import os\n",
    "import time\n",
    "import matplotlib.pyplot as plt\n",
    "from sklearn.metrics import *\n",
    "from sklearn.model_selection import train_test_split\n",
    "from tensorflow.keras.callbacks import ReduceLROnPlateau\n",
    "from tensorflow import keras\n",
    "from tensorflow.keras.optimizers import SGD\n",
    "import warnings\n",
    "warnings.filterwarnings(\"ignore\")"
   ]
  },
  {
   "cell_type": "code",
   "execution_count": null,
   "id": "28b6918e",
   "metadata": {},
   "outputs": [],
   "source": [
    "import splitfolders\n",
    "splitfolders.ratio(\"Data\", output=\"output\",\n",
    "    seed=1337, ratio=(.8, .2), group_prefix=None, move=False) # default values"
   ]
  },
  {
   "cell_type": "code",
   "execution_count": 3,
   "id": "32683383",
   "metadata": {},
   "outputs": [],
   "source": [
    "learning_rate = 0.0001\n",
    "buffer_size = 519\n",
    "batch_size = 16\n",
    "epochs = 500\n",
    "img_size = 224\n",
    "key = 12"
   ]
  },
  {
   "cell_type": "code",
   "execution_count": 4,
   "id": "41a27297",
   "metadata": {},
   "outputs": [
    {
     "name": "stdout",
     "output_type": "stream",
     "text": [
      "Found 2058 images belonging to 12 classes.\n",
      "Found 545 images belonging to 12 classes.\n"
     ]
    }
   ],
   "source": [
    "train_datagen = ImageDataGenerator(rescale=1. / 255,\n",
    "                                   shear_range=0.2,\n",
    "                                   zoom_range=0.2,\n",
    "                                   horizontal_flip=True)\n",
    "\n",
    "test_datagen = ImageDataGenerator(rescale=1. / 255)\n",
    "\n",
    "training_set = train_datagen.flow_from_directory('output/train/',\n",
    "                                                 target_size=(224,224),\n",
    "                                                 batch_size=16)\n",
    "\n",
    "test_set = test_datagen.flow_from_directory('output/val',\n",
    "                                            target_size=(224,224),\n",
    "                                            batch_size=16)"
   ]
  },
  {
   "cell_type": "code",
   "execution_count": 5,
   "id": "42240b04",
   "metadata": {},
   "outputs": [],
   "source": [
    "def InceptionResNetV2_model():\n",
    "\n",
    "    engine = tf.keras.applications.Xception(\n",
    "        # Freezing the weights of the top layer in the InceptionResNetV2 pre-traiined model\n",
    "        include_top = False,\n",
    "\n",
    "        # Use Imagenet weights\n",
    "        weights = 'imagenet',\n",
    "\n",
    "        # Define input shape to 224x224x3\n",
    "        input_shape = (img_size , img_size , 3),\n",
    "\n",
    "    )\n",
    "\n",
    "    x = tf.keras.layers.GlobalAveragePooling2D(name = 'avg_pool')(engine.output)\n",
    "    x =Dropout(0.90)(x)\n",
    "    out = tf.keras.layers.Dense(key, activation = 'softmax', name = 'dense_output')(x)\n",
    "\n",
    "\n",
    "    # Build the Keras model\n",
    "\n",
    "    model = tf.keras.models.Model(inputs = engine.input, outputs = out)\n",
    "    # Compile the model\n",
    "\n",
    "    model.compile(\n",
    "        # Set optimizer to Adam(0.0001)\n",
    "        optimizer = tf.keras.optimizers.Adam(learning_rate= 3e-4),\n",
    "        #optimizer= SGD(lr=3e-4, momentum=0.9),\n",
    "        # Set loss to binary crossentropy\n",
    "        #loss = tf.keras.losses.sparse_categorical_crossentropy,\n",
    "        loss = tf.keras.losses.CategoricalCrossentropy(),\n",
    "        # Set metrics to accuracy\n",
    "        metrics = ['accuracy']\n",
    "    )\n",
    "\n",
    "    return model"
   ]
  },
  {
   "cell_type": "code",
   "execution_count": 6,
   "id": "73f22e0f",
   "metadata": {},
   "outputs": [],
   "source": [
    "early_stopping = tf.keras.callbacks.EarlyStopping(monitor='loss', patience=3)\n",
    "learning_rate_reduction = keras.callbacks.ReduceLROnPlateau(monitor='val_accuracy',\n",
    "                                                            patience=2,\n",
    "                                                            verbose=2,\n",
    "                                                            factor=0.5,\n",
    "                                                            min_lr=0.00001)\n",
    "reduce_lr =  keras.callbacks.ReduceLROnPlateau(monitor='val_loss', factor=0.5,\n",
    "                              patience=3, min_lr=0.00001)"
   ]
  },
  {
   "cell_type": "code",
   "execution_count": 7,
   "id": "25d1c08c",
   "metadata": {},
   "outputs": [],
   "source": [
    "def train():\n",
    "    time_start = time.time()\n",
    "    \n",
    "    model = InceptionResNetV2_model()\n",
    "    \n",
    "    model.summary()\n",
    "    history = model.fit(training_set, epochs= epochs , verbose = 2, validation_data = test_set,\n",
    "                       callbacks=[early_stopping, reduce_lr , learning_rate_reduction])\n",
    "    \n",
    "    \n",
    "\n",
    "    model.save_weights('layer22-wskindiseases1.h5')\n",
    "    model.save('layer22-skindiseases1.h5')\n",
    "    \n",
    "    print('Model saved.')\n",
    "    \n",
    "    time_end = time.time()\n",
    "    print('Training Time:', time_end - time_start)\n",
    "    print('\\n')\n",
    "\n",
    "    return history\n"
   ]
  },
  {
   "cell_type": "code",
   "execution_count": 9,
   "id": "8a4cc6a7",
   "metadata": {},
   "outputs": [],
   "source": [
    "def test():\n",
    "    #test_labels = np.array(test_labels)\n",
    "\n",
    "    from tensorflow import keras\n",
    "    print('Testing:')\n",
    "    mod = InceptionResNetV2_model()\n",
    "    mod.load_weights('Layer22-wskindiseases1.h5')\n",
    "    mod.evaluate(test_set)\n",
    "    \n",
    "    #prob = mod.predict(test_set)\n",
    "    #predIdxs = np.argmax(prob, axis=1) \n",
    "\n",
    "\n",
    "    print('\\n')\n",
    "    #print(classification_report(test_set.labels, predIdxs,target_names = key, digits=5))\n",
    "    return predIdxs, prob, mod "
   ]
  },
  {
   "cell_type": "code",
   "execution_count": null,
   "id": "9c658ca9",
   "metadata": {},
   "outputs": [],
   "source": [
    "if __name__ == \"__main__\":\n",
    "\n",
    "    train_history = train() \n",
    "    predIdxs,prob,  model = test()\n",
    "    \n",
    "    show_train_history(train_history, 'sparse_categorical_accuracy')"
   ]
  },
  {
   "cell_type": "code",
   "execution_count": 10,
   "id": "843bf5b5",
   "metadata": {},
   "outputs": [
    {
     "name": "stdout",
     "output_type": "stream",
     "text": [
      "Found 2289 files belonging to 12 classes.\n"
     ]
    }
   ],
   "source": [
    "from tensorflow.keras.preprocessing import image_dataset_from_directory\n",
    "input_path = 'Data/'\n",
    "train_data = image_dataset_from_directory(directory=input_path,\n",
    "                                          batch_size=16,\n",
    "                                          image_size=(224, 224))\n",
    "key = train_data.class_names"
   ]
  },
  {
   "cell_type": "code",
   "execution_count": 11,
   "id": "f5f13002",
   "metadata": {},
   "outputs": [],
   "source": [
    "def read_directory():\n",
    "    data_filenames = []\n",
    "    data_labels = []\n",
    "    for i in range (len(key)):\n",
    "        for filename in os.listdir(input_path + key[i]):\n",
    "                data_filenames.append(input_path +key[i]+'/' + filename)\n",
    "                data_labels.append(i)\n",
    "  \n",
    "    return  data_filenames, data_labels"
   ]
  },
  {
   "cell_type": "code",
   "execution_count": 12,
   "id": "cdbbb9c7",
   "metadata": {},
   "outputs": [],
   "source": [
    "def build_test_tfrecord(train_filenames, train_labels):  # Generate TFRecord of training set \n",
    "    with tf.io.TFRecordWriter(test_tfrecord)as writer:\n",
    "        for filename, label in zip(train_filenames, train_labels):\n",
    "            image = open(filename, 'rb').read()\n",
    "\n",
    "            feature = {\n",
    "                'image': tf.train.Feature(bytes_list=tf.train.BytesList(value=[image])),  # img > Bytes\n",
    "                'label': tf.train.Feature(int64_list=tf.train.Int64List(value=[label]))  # label > Int\n",
    "            }\n",
    "\n",
    "            example = tf.train.Example(features=tf.train.Features(feature=feature))\n",
    "            writer.write(example.SerializeToString())"
   ]
  },
  {
   "cell_type": "code",
   "execution_count": 13,
   "id": "bc136ebc",
   "metadata": {},
   "outputs": [],
   "source": [
    "def _parse_example(example_string):\n",
    "    feature_description = {\n",
    "        'image': tf.io.FixedLenFeature([], tf.string),\n",
    "        'label': tf.io.FixedLenFeature([], tf.int64),\n",
    "    }\n",
    "\n",
    "    feature_dict = tf.io.parse_single_example(example_string, feature_description)\n",
    "    feature_dict['image'] = tf.io.decode_png(feature_dict['image'], channels=3)\n",
    "    feature_dict['image'] = tf.image.resize(feature_dict['image'], [img_size, img_size]) / 255.0\n",
    "    return feature_dict['image'], feature_dict['label']"
   ]
  },
  {
   "cell_type": "code",
   "execution_count": 14,
   "id": "d5886fbe",
   "metadata": {},
   "outputs": [],
   "source": [
    "def get_test_dataset(test_tfrecord):\n",
    "    raw_test_dataset = tf.data.TFRecordDataset(test_tfrecord)\n",
    "    test_dataset = raw_test_dataset.map(_parse_example)\n",
    "\n",
    "    return test_dataset"
   ]
  },
  {
   "cell_type": "code",
   "execution_count": 15,
   "id": "63c808e0",
   "metadata": {},
   "outputs": [],
   "source": [
    "def data_Preprocessing( test_dataset):\n",
    "    test_dataset = test_dataset.batch(batch_size)\n",
    "    test_dataset = test_dataset.prefetch(tf.data.experimental.AUTOTUNE)\n",
    "\n",
    "    return  test_dataset"
   ]
  },
  {
   "cell_type": "code",
   "execution_count": 16,
   "id": "f8d76a59",
   "metadata": {},
   "outputs": [],
   "source": [
    "def InceptionResNetV2_model():\n",
    "\n",
    "    engine = tf.keras.applications.Xception(\n",
    "        # Freezing the weights of the top layer in the InceptionResNetV2 pre-traiined model\n",
    "        include_top = False,\n",
    "\n",
    "        # Use Imagenet weights\n",
    "        weights = 'imagenet',\n",
    "\n",
    "        # Define input shape to 224x224x3\n",
    "        input_shape = (img_size , img_size , 3),\n",
    "\n",
    "    )\n",
    "\n",
    "    x = tf.keras.layers.GlobalAveragePooling2D(name = 'avg_pool')(engine.output)\n",
    "    x =Dropout(0.85)(x)\n",
    "    out = tf.keras.layers.Dense(len(key), activation = 'softmax', name = 'dense_output')(x)\n",
    "\n",
    "\n",
    "    # Build the Keras model\n",
    "\n",
    "    model = tf.keras.models.Model(inputs = engine.input, outputs = out)\n",
    "    # Compile the model\n",
    "\n",
    "    model.compile(\n",
    "        # Set optimizer to Adam(0.0001)\n",
    "        optimizer = tf.keras.optimizers.Adam(learning_rate= 3e-4),\n",
    "        #optimizer= SGD(lr=0.0001, momentum=0.9),\n",
    "        # Set loss to binary crossentropy\n",
    "        loss = tf.keras.losses.sparse_categorical_crossentropy,\n",
    "\n",
    "        # Set metrics to accuracy\n",
    "        metrics = ['accuracy']\n",
    "    )\n",
    "\n",
    "\n",
    "    return model"
   ]
  },
  {
   "cell_type": "code",
   "execution_count": 17,
   "id": "0363adfb",
   "metadata": {},
   "outputs": [],
   "source": [
    "def test(test_labels):\n",
    "    test_labels = np.array(test_labels)\n",
    "\n",
    "    from tensorflow import keras\n",
    "    print('Testing:')\n",
    "    mod = InceptionResNetV2_model()\n",
    "    mod.load_weights('final version (94)/layer22-wskindiseases1.h5')\n",
    "    mod.evaluate(test_dataset)\n",
    "    \n",
    "    prob = mod.predict(test_dataset)\n",
    "    predIdxs = np.argmax(prob, axis=1) \n",
    "\n",
    "\n",
    "    print('\\n')\n",
    "    print(classification_report(test_labels, predIdxs,target_names = key, digits=5))\n",
    "    return test_labels, predIdxs, prob, mod"
   ]
  },
  {
   "cell_type": "code",
   "execution_count": 18,
   "id": "ef30cce8",
   "metadata": {},
   "outputs": [
    {
     "name": "stdout",
     "output_type": "stream",
     "text": [
      "Testing:\n",
      "144/144 [==============================] - 17s 97ms/step - loss: 0.0748 - accuracy: 0.9803.0788 - ac\n",
      "\n",
      "\n",
      "                                              precision    recall  f1-score   support\n",
      "\n",
      "                 Acquired ichthyosis - Adult    0.96774   0.96774   0.96774        62\n",
      "               Atopic Dermatitis Adult Phase    0.98834   0.97696   0.98262       434\n",
      "           Atopic Dermatitis Childhood Phase    0.95489   0.98961   0.97194       385\n",
      "                      Atopic Dermatitis Feet    0.97076   0.95954   0.96512       173\n",
      "       Atopic Dermatitis Hyperlinear Creases    0.97778   0.98876   0.98324        89\n",
      "                Harlequin ichthyosis - Child    1.00000   0.96875   0.98413        32\n",
      "                         Ichthyosis vulgaris    1.00000   0.97619   0.98795        84\n",
      "                           Keratosis Pilaris    0.99814   0.98175   0.98988       548\n",
      "Keratosis pilaris atrophicans faciei - Adult    1.00000   0.90909   0.95238        22\n",
      "                 Lamellar ichthyosis - Adult    1.00000   0.97561   0.98765        82\n",
      "                             Pityriasis Alba    0.98788   0.98788   0.98788       330\n",
      "                         X-linked ichthyosis    0.85714   1.00000   0.92308        48\n",
      "\n",
      "                                    accuracy                        0.98034      2289\n",
      "                                   macro avg    0.97522   0.97349   0.97363      2289\n",
      "                                weighted avg    0.98107   0.98034   0.98048      2289\n",
      "\n"
     ]
    }
   ],
   "source": [
    "if __name__ == \"__main__\":\n",
    "    \n",
    "    test_filenames, test_labels = read_directory()\n",
    "    test_tfrecord = 'XRay_test.tfrecords'\n",
    "    build_test_tfrecord(test_filenames, test_labels)\n",
    "\n",
    "\n",
    "    test_dataset = get_test_dataset(test_tfrecord)\n",
    "\n",
    "\n",
    "\n",
    "    test_dataset = data_Preprocessing(test_dataset) \n",
    "\n",
    "    test_labels, predIdxs,prob, Model = test(test_labels)"
   ]
  },
  {
   "cell_type": "code",
   "execution_count": 19,
   "id": "75caea18",
   "metadata": {},
   "outputs": [],
   "source": [
    "def dermai_accuracy(prob, prob_Desicon):\n",
    "    dermai = []\n",
    "    for i in range(len(prob)):\n",
    "        catogery =[]\n",
    "        for j in range(len(prob[i])):\n",
    "            if prob[i][j] > prob_Desicon:\n",
    "                catogery.append(j)\n",
    "        dermai.append(catogery)\n",
    "    Positive = []\n",
    "    for i in range(len(dermai)):\n",
    "        if test_labels[i] in dermai[i]:\n",
    "            Positive.append(1)\n",
    "    accuracy = (len(Positive)/len(test_labels))*100  \n",
    "    return  accuracy,dermai"
   ]
  },
  {
   "cell_type": "code",
   "execution_count": 20,
   "id": "0c0d5ae1",
   "metadata": {},
   "outputs": [],
   "source": [
    "accuracy,dermai = dermai_accuracy(prob, 0.10)"
   ]
  },
  {
   "cell_type": "code",
   "execution_count": null,
   "id": "97a58752",
   "metadata": {},
   "outputs": [],
   "source": [
    "accuracy"
   ]
  },
  {
   "cell_type": "code",
   "execution_count": null,
   "id": "9f637376",
   "metadata": {},
   "outputs": [],
   "source": []
  },
  {
   "cell_type": "code",
   "execution_count": null,
   "id": "43fab93a",
   "metadata": {},
   "outputs": [],
   "source": []
  }
 ],
 "metadata": {
  "kernelspec": {
   "display_name": "Python 3 (ipykernel)",
   "language": "python",
   "name": "python3"
  },
  "language_info": {
   "codemirror_mode": {
    "name": "ipython",
    "version": 3
   },
   "file_extension": ".py",
   "mimetype": "text/x-python",
   "name": "python",
   "nbconvert_exporter": "python",
   "pygments_lexer": "ipython3",
   "version": "3.8.12"
  }
 },
 "nbformat": 4,
 "nbformat_minor": 5
}
